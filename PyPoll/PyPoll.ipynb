{
 "cells": [
  {
   "cell_type": "code",
   "execution_count": 3,
   "metadata": {},
   "outputs": [],
   "source": [
    "import os\n",
    "import csv"
   ]
  },
  {
   "cell_type": "code",
   "execution_count": 4,
   "metadata": {},
   "outputs": [
    {
     "name": "stdout",
     "output_type": "stream",
     "text": [
      "<_csv.reader object at 0x000001EBAD80A938>\n"
     ]
    }
   ],
   "source": [
    "election_csv = os.path.join(\"Resources\", \"election_data.csv\")\n",
    "with open(election_csv, newline=\"\") as csvfile:\n",
    "        csvreader = csv.reader(csvfile, delimiter = \",\")\n",
    "csv_header = next(csvreader)\n",
    "    print(\"CSV Header\": str(csv_header))\n",
    "        print(csvreader) "
   ]
  },
  {
   "cell_type": "code",
   "execution_count": null,
   "metadata": {},
   "outputs": [],
   "source": [
    "total_votes = []\n",
    "candidates = []\n",
    "dict = {}"
   ]
  },
  {
   "cell_type": "code",
   "execution_count": null,
   "metadata": {},
   "outputs": [],
   "source": [
    "For row in csvreader\n",
    "    total_votes.append(row(0))\n",
    "    candidates.append(row(2))\n",
    "    len(total_votes)"
   ]
  },
  {
   "cell_type": "code",
   "execution_count": null,
   "metadata": {},
   "outputs": [],
   "source": [
    "total_Correy = candidates.count(\"Correy\")\n",
    "total_Khan = candidates.count(\"Khan\")\n",
    "total_Li = candidates.count(\"Li\")\n",
    "total_OTooley = candidates.count(\"O'Tooley\")\n",
    "candidates = [\"Correy\",\"Khan\", \"Li\", \"O'Tooley\"]"
   ]
  },
  {
   "cell_type": "code",
   "execution_count": null,
   "metadata": {},
   "outputs": [],
   "source": [
    "def GetSummary(election_data)\n",
    "#Total votes\n",
    "print(total_votes)\n",
    "#Percent of votes by each candidate\n",
    "percent_Correy = (total_Correy / total_votes) * 100\n",
    "    print(Correy: percent_Correy + \" \" + total_Correy)\n",
    "percent_Khan = (total_Khan / total_votes) * 100\n",
    "    print(Khan: percent_Khan + \" \" + total_Khan)\n",
    "percent_Li = (total_Li / total_votes) * 100\n",
    "    print(Li: percent_Li + \" \" + total_Li)\n",
    "percent_OTooley = (total_OTooley / total_votes) * 100\n",
    "    print(OTooley: percent_OTooley + \" \" + total_OTooley)\n",
    "#Winner\n",
    "If percent_Correy > percent_Khan:\n",
    "    print (\"Winner: \" + \"Correy\")\n",
    "Elif percent_Khan > percent_Li:\n",
    "    print (\"Winner: \" + Khan)\n",
    "Elif percent_Li > percent_OTooley:\n",
    "    print (\"Winner: \" + \"Li\")\n",
    "Elif percent_OTooley > percent_Correy:\n",
    "    print (\"Winner: \" + \"O'Tooley\")\n",
    "Else:\n",
    "    print(\"There is no winner.\")"
   ]
  }
 ],
 "metadata": {
  "kernelspec": {
   "display_name": "Python 3",
   "language": "python",
   "name": "python3"
  },
  "language_info": {
   "codemirror_mode": {
    "name": "ipython",
    "version": 3
   },
   "file_extension": ".py",
   "mimetype": "text/x-python",
   "name": "python",
   "nbconvert_exporter": "python",
   "pygments_lexer": "ipython3",
   "version": "3.7.1"
  }
 },
 "nbformat": 4,
 "nbformat_minor": 2
}

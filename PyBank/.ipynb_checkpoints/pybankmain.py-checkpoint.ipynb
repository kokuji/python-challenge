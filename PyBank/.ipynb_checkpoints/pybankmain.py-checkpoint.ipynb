{
 "cells": [
  {
   "cell_type": "code",
   "execution_count": 5,
   "metadata": {},
   "outputs": [],
   "source": [
    "import os\n",
    "import csv"
   ]
  },
  {
   "cell_type": "code",
   "execution_count": 7,
   "metadata": {},
   "outputs": [],
   "source": [
    "budget_csv = os.path.join(\"Resources\", \"budget_data.csv\")\n",
    "with open(budget_csv, newline=\"\") as csvfile:\n",
    "    csvreader = csv.reader(csvfile, delimiter = \",\")\n",
    "    header = next(csvreader)\n",
    "    previous_row = 0\n",
    "    delta = []\n",
    "    months = []\n",
    "    pl=[]\n",
    "    for row in cvsreader:\n",
    "        delta.append(int(row[1])-previous_row)\n",
    "        previous_row = int(row[1])\n",
    "        months.append(row[0])\n",
    "        pl.append(row(1))\n",
    "    #Calculation for net profit/loss\n",
    "    totalPL = int(pl).sum()\n",
    "    #Average change in profit/loss over entire period\n",
    "    avgPL = totalPL / int(delta).sum()\n",
    "    #Greatest increase in profit - date and amount - over the entire period\n",
    "    maxPL = max(int(delta))\n",
    "    idx_max = max(delta)\n",
    "    months[idx_max]\n",
    "    #Greastet decrease in losses - date and amount - over the entire period\n",
    "    minPL = min(int(pl))\n",
    "    idx_min = min(delta)\n",
    "    months[idx_min]\n",
    "    #Print out summary\n",
    "    print(\"Total months: \" + months\")\n",
    "    print(\"Total: \" + totalPL)\n",
    "    print (\"Average change in profit/loss: \" + avgPL)\n",
    "    print (\"Greatest Increase in Profits: \" + idx_max + maxPL)\n",
    "    print (\"Greatest Decrease in Profits: \" + idx_min + minPL)"
   ]
  },
  {
   "cell_type": "code",
   "execution_count": 8,
   "metadata": {},
   "outputs": [
    {
     "name": "stdout",
     "output_type": "stream",
     "text": [
      "<_csv.reader object at 0x0000013B59CDAE18>\n"
     ]
    }
   ],
   "source": [
    "print(csvreader)   "
   ]
  }
 ],
 "metadata": {
  "kernelspec": {
   "display_name": "Python 3",
   "language": "python",
   "name": "python3"
  },
  "language_info": {
   "codemirror_mode": {
    "name": "ipython",
    "version": 3
   },
   "file_extension": ".py",
   "mimetype": "text/x-python",
   "name": "python",
   "nbconvert_exporter": "python",
   "pygments_lexer": "ipython3",
   "version": "3.7.1"
  }
 },
 "nbformat": 4,
 "nbformat_minor": 2
}
